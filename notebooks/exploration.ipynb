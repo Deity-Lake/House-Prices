{
 "cells": [
  {
   "cell_type": "markdown",
   "metadata": {},
   "source": [
    "### Importação de bibliotecas python"
   ]
  },
  {
   "cell_type": "code",
   "execution_count": 1,
   "metadata": {},
   "outputs": [],
   "source": [
    "import os\n",
    "import numpy as np\n",
    "import pandas as pd\n",
    "import neptune\n",
    "import json\n",
    "from datetime import datetime\n",
    "import seaborn as sns; sns.set()\n",
    "import matplotlib.pyplot as plt\n",
    "import pickle\n",
    "from sklearn.model_selection import GridSearchCV\n",
    "from sklearn.ensemble import RandomForestRegressor\n",
    "from sklearn.metrics import mean_squared_log_error,make_scorer,mean_squared_error\n",
    "from sklearn.model_selection import train_test_split\n",
    "from sklearn.ensemble import GradientBoostingRegressor"
   ]
  },
  {
   "cell_type": "code",
   "execution_count": 2,
   "metadata": {},
   "outputs": [],
   "source": [
    "from sklearn.metrics import mean_squared_log_error as mslee"
   ]
  },
  {
   "cell_type": "markdown",
   "metadata": {},
   "source": [
    "### Importação de módulos do projeto"
   ]
  },
  {
   "cell_type": "code",
   "execution_count": 3,
   "metadata": {},
   "outputs": [],
   "source": [
    "os.chdir(\"..\")\n",
    "\n",
    "from src.utils import load_settings\n",
    "from src.submission import KaggleSubmission\n",
    "from src.train import KaggleTrain"
   ]
  },
  {
   "cell_type": "markdown",
   "metadata": {},
   "source": [
    "### Load Settings"
   ]
  },
  {
   "cell_type": "code",
   "execution_count": 4,
   "metadata": {},
   "outputs": [],
   "source": [
    "settings = load_settings()"
   ]
  },
  {
   "cell_type": "code",
   "execution_count": 5,
   "metadata": {},
   "outputs": [],
   "source": [
    "id_column        = settings[\"id_column\"]\n",
    "target_column    = settings[\"target_column\"]\n",
    "competition_name = settings[\"competition_name\"]"
   ]
  },
  {
   "cell_type": "markdown",
   "metadata": {},
   "source": [
    "### Read Data"
   ]
  },
  {
   "cell_type": "code",
   "execution_count": 6,
   "metadata": {},
   "outputs": [],
   "source": [
    "train = pd.read_csv(\"data/train.csv\")"
   ]
  },
  {
   "cell_type": "code",
   "execution_count": 7,
   "metadata": {},
   "outputs": [],
   "source": [
    "test = pd.read_csv(\"data/test.csv\")"
   ]
  },
  {
   "cell_type": "markdown",
   "metadata": {},
   "source": [
    "### Exploratory Analysis"
   ]
  },
  {
   "cell_type": "code",
   "execution_count": 8,
   "metadata": {},
   "outputs": [
    {
     "data": {
      "text/plain": [
       "Index(['Id', 'MSSubClass', 'MSZoning', 'LotFrontage', 'LotArea', 'Street',\n",
       "       'Alley', 'LotShape', 'LandContour', 'Utilities', 'LotConfig',\n",
       "       'LandSlope', 'Neighborhood', 'Condition1', 'Condition2', 'BldgType',\n",
       "       'HouseStyle', 'OverallQual', 'OverallCond', 'YearBuilt', 'YearRemodAdd',\n",
       "       'RoofStyle', 'RoofMatl', 'Exterior1st', 'Exterior2nd', 'MasVnrType',\n",
       "       'MasVnrArea', 'ExterQual', 'ExterCond', 'Foundation', 'BsmtQual',\n",
       "       'BsmtCond', 'BsmtExposure', 'BsmtFinType1', 'BsmtFinSF1',\n",
       "       'BsmtFinType2', 'BsmtFinSF2', 'BsmtUnfSF', 'TotalBsmtSF', 'Heating',\n",
       "       'HeatingQC', 'CentralAir', 'Electrical', '1stFlrSF', '2ndFlrSF',\n",
       "       'LowQualFinSF', 'GrLivArea', 'BsmtFullBath', 'BsmtHalfBath', 'FullBath',\n",
       "       'HalfBath', 'BedroomAbvGr', 'KitchenAbvGr', 'KitchenQual',\n",
       "       'TotRmsAbvGrd', 'Functional', 'Fireplaces', 'FireplaceQu', 'GarageType',\n",
       "       'GarageYrBlt', 'GarageFinish', 'GarageCars', 'GarageArea', 'GarageQual',\n",
       "       'GarageCond', 'PavedDrive', 'WoodDeckSF', 'OpenPorchSF',\n",
       "       'EnclosedPorch', '3SsnPorch', 'ScreenPorch', 'PoolArea', 'PoolQC',\n",
       "       'Fence', 'MiscFeature', 'MiscVal', 'MoSold', 'YrSold', 'SaleType',\n",
       "       'SaleCondition', 'SalePrice'],\n",
       "      dtype='object')"
      ]
     },
     "execution_count": 8,
     "metadata": {},
     "output_type": "execute_result"
    }
   ],
   "source": [
    "train.columns"
   ]
  },
  {
   "cell_type": "code",
   "execution_count": 9,
   "metadata": {
    "scrolled": true
   },
   "outputs": [
    {
     "name": "stdout",
     "output_type": "stream",
     "text": [
      "MSSubClass: Identifies the type of dwelling involved in the sale.\t\r\n",
      "\r\n",
      "        20\t1-STORY 1946 & NEWER ALL STYLES\r\n",
      "        30\t1-STORY 1945 & OLDER\r\n",
      "        40\t1-STORY W/FINISHED ATTIC ALL AGES\r\n",
      "        45\t1-1/2 STORY - UNFINISHED ALL AGES\r\n",
      "        50\t1-1/2 STORY FINISHED ALL AGES\r\n",
      "        60\t2-STORY 1946 & NEWER\r\n",
      "        70\t2-STORY 1945 & OLDER\r\n",
      "        75\t2-1/2 STORY ALL AGES\r\n",
      "        80\tSPLIT OR MULTI-LEVEL\r\n",
      "        85\tSPLIT FOYER\r\n",
      "        90\tDUPLEX - ALL STYLES AND AGES\r\n",
      "       120\t1-STORY PUD (Planned Unit Development) - 1946 & NEWER\r\n",
      "       150\t1-1/2 STORY PUD - ALL AGES\r\n",
      "       160\t2-STORY PUD - 1946 & NEWER\r\n",
      "       180\tPUD - MULTILEVEL - INCL SPLIT LEV/FOYER\r\n",
      "       190\t2 FAMILY CONVERSION - ALL STYLES AND AGES\r\n",
      "\r\n",
      "MSZoning: Identifies the general zoning classification of the sale.\r\n",
      "\t\t\r\n",
      "       A\tAgriculture\r\n",
      "       C\tCommercial\r\n",
      "       FV\tFloating Village Residential\r\n",
      "       I\tIndustrial\r\n",
      "       RH\tResidential High Density\r\n",
      "       RL\tResidential Low Density\r\n",
      "       RP\tResidential Low Density Park \r\n",
      "       RM\tResidential Medium Density\r\n",
      "\t\r\n",
      "LotFrontage: Linear feet of street connected to property\r\n",
      "\r\n",
      "LotArea: Lot size in square feet\r\n",
      "\r\n",
      "Street: Type of road access to property\r\n",
      "\r\n",
      "       Grvl\tGravel\t\r\n",
      "       Pave\tPaved\r\n",
      "       \t\r\n",
      "Alley: Type of alley access to property\r\n",
      "\r\n",
      "       Grvl\tGravel\r\n",
      "       Pave\tPaved\r\n",
      "       NA \tNo alley access\r\n",
      "\t\t\r\n",
      "LotShape: General shape of property\r\n",
      "\r\n",
      "       Reg\tRegular\t\r\n",
      "       IR1\tSlightly irregular\r\n",
      "       IR2\tModerately Irregular\r\n",
      "       IR3\tIrregular\r\n",
      "       \r\n",
      "LandContour: Flatness of the property\r\n",
      "\r\n",
      "       Lvl\tNear Flat/Level\t\r\n",
      "       Bnk\tBanked - Quick and significant rise from street grade to building\r\n",
      "       HLS\tHillside - Significant slope from side to side\r\n",
      "       Low\tDepression\r\n",
      "\t\t\r\n",
      "Utilities: Type of utilities available\r\n",
      "\t\t\r\n",
      "       AllPub\tAll public Utilities (E,G,W,& S)\t\r\n",
      "       NoSewr\tElectricity, Gas, and Water (Septic Tank)\r\n",
      "       NoSeWa\tElectricity and Gas Only\r\n",
      "       ELO\tElectricity only\t\r\n",
      "\t\r\n",
      "LotConfig: Lot configuration\r\n",
      "\r\n",
      "       Inside\tInside lot\r\n",
      "       Corner\tCorner lot\r\n",
      "       CulDSac\tCul-de-sac\r\n",
      "       FR2\tFrontage on 2 sides of property\r\n",
      "       FR3\tFrontage on 3 sides of property\r\n",
      "\t\r\n",
      "LandSlope: Slope of property\r\n",
      "\t\t\r\n",
      "       Gtl\tGentle slope\r\n",
      "       Mod\tModerate Slope\t\r\n",
      "       Sev\tSevere Slope\r\n",
      "\t\r\n",
      "Neighborhood: Physical locations within Ames city limits\r\n",
      "\r\n",
      "       Blmngtn\tBloomington Heights\r\n",
      "       Blueste\tBluestem\r\n",
      "       BrDale\tBriardale\r\n",
      "       BrkSide\tBrookside\r\n",
      "       ClearCr\tClear Creek\r\n",
      "       CollgCr\tCollege Creek\r\n",
      "       Crawfor\tCrawford\r\n",
      "       Edwards\tEdwards\r\n",
      "       Gilbert\tGilbert\r\n",
      "       IDOTRR\tIowa DOT and Rail Road\r\n",
      "       MeadowV\tMeadow Village\r\n",
      "       Mitchel\tMitchell\r\n",
      "       Names\tNorth Ames\r\n",
      "       NoRidge\tNorthridge\r\n",
      "       NPkVill\tNorthpark Villa\r\n",
      "       NridgHt\tNorthridge Heights\r\n",
      "       NWAmes\tNorthwest Ames\r\n",
      "       OldTown\tOld Town\r\n",
      "       SWISU\tSouth & West of Iowa State University\r\n",
      "       Sawyer\tSawyer\r\n",
      "       SawyerW\tSawyer West\r\n",
      "       Somerst\tSomerset\r\n",
      "       StoneBr\tStone Brook\r\n",
      "       Timber\tTimberland\r\n",
      "       Veenker\tVeenker\r\n",
      "\t\t\t\r\n",
      "Condition1: Proximity to various conditions\r\n",
      "\t\r\n",
      "       Artery\tAdjacent to arterial street\r\n",
      "       Feedr\tAdjacent to feeder street\t\r\n",
      "       Norm\tNormal\t\r\n",
      "       RRNn\tWithin 200' of North-South Railroad\r\n",
      "       RRAn\tAdjacent to North-South Railroad\r\n",
      "       PosN\tNear positive off-site feature--park, greenbelt, etc.\r\n",
      "       PosA\tAdjacent to postive off-site feature\r\n",
      "       RRNe\tWithin 200' of East-West Railroad\r\n",
      "       RRAe\tAdjacent to East-West Railroad\r\n",
      "\t\r\n",
      "Condition2: Proximity to various conditions (if more than one is present)\r\n",
      "\t\t\r\n",
      "       Artery\tAdjacent to arterial street\r\n",
      "       Feedr\tAdjacent to feeder street\t\r\n",
      "       Norm\tNormal\t\r\n",
      "       RRNn\tWithin 200' of North-South Railroad\r\n",
      "       RRAn\tAdjacent to North-South Railroad\r\n",
      "       PosN\tNear positive off-site feature--park, greenbelt, etc.\r\n",
      "       PosA\tAdjacent to postive off-site feature\r\n",
      "       RRNe\tWithin 200' of East-West Railroad\r\n",
      "       RRAe\tAdjacent to East-West Railroad\r\n",
      "\t\r\n",
      "BldgType: Type of dwelling\r\n",
      "\t\t\r\n",
      "       1Fam\tSingle-family Detached\t\r\n",
      "       2FmCon\tTwo-family Conversion; originally built as one-family dwelling\r\n",
      "       Duplx\tDuplex\r\n",
      "       TwnhsE\tTownhouse End Unit\r\n",
      "       TwnhsI\tTownhouse Inside Unit\r\n",
      "\t\r\n",
      "HouseStyle: Style of dwelling\r\n",
      "\t\r\n",
      "       1Story\tOne story\r\n",
      "       1.5Fin\tOne and one-half story: 2nd level finished\r\n",
      "       1.5Unf\tOne and one-half story: 2nd level unfinished\r\n",
      "       2Story\tTwo story\r\n",
      "       2.5Fin\tTwo and one-half story: 2nd level finished\r\n",
      "       2.5Unf\tTwo and one-half story: 2nd level unfinished\r\n",
      "       SFoyer\tSplit Foyer\r\n",
      "       SLvl\tSplit Level\r\n",
      "\t\r\n",
      "OverallQual: Rates the overall material and finish of the house\r\n",
      "\r\n",
      "       10\tVery Excellent\r\n",
      "       9\tExcellent\r\n",
      "       8\tVery Good\r\n",
      "       7\tGood\r\n",
      "       6\tAbove Average\r\n",
      "       5\tAverage\r\n",
      "       4\tBelow Average\r\n",
      "       3\tFair\r\n",
      "       2\tPoor\r\n",
      "       1\tVery Poor\r\n",
      "\t\r\n",
      "OverallCond: Rates the overall condition of the house\r\n",
      "\r\n",
      "       10\tVery Excellent\r\n",
      "       9\tExcellent\r\n",
      "       8\tVery Good\r\n",
      "       7\tGood\r\n",
      "       6\tAbove Average\t\r\n",
      "       5\tAverage\r\n",
      "       4\tBelow Average\t\r\n",
      "       3\tFair\r\n",
      "       2\tPoor\r\n",
      "       1\tVery Poor\r\n",
      "\t\t\r\n",
      "YearBuilt: Original construction date\r\n",
      "\r\n",
      "YearRemodAdd: Remodel date (same as construction date if no remodeling or additions)\r\n",
      "\r\n",
      "RoofStyle: Type of roof\r\n",
      "\r\n",
      "       Flat\tFlat\r\n",
      "       Gable\tGable\r\n",
      "       Gambrel\tGabrel (Barn)\r\n",
      "       Hip\tHip\r\n",
      "       Mansard\tMansard\r\n",
      "       Shed\tShed\r\n",
      "\t\t\r\n",
      "RoofMatl: Roof material\r\n",
      "\r\n",
      "       ClyTile\tClay or Tile\r\n",
      "       CompShg\tStandard (Composite) Shingle\r\n",
      "       Membran\tMembrane\r\n",
      "       Metal\tMetal\r\n",
      "       Roll\tRoll\r\n",
      "       Tar&Grv\tGravel & Tar\r\n",
      "       WdShake\tWood Shakes\r\n",
      "       WdShngl\tWood Shingles\r\n",
      "\t\t\r\n",
      "Exterior1st: Exterior covering on house\r\n",
      "\r\n",
      "       AsbShng\tAsbestos Shingles\r\n",
      "       AsphShn\tAsphalt Shingles\r\n",
      "       BrkComm\tBrick Common\r\n",
      "       BrkFace\tBrick Face\r\n",
      "       CBlock\tCinder Block\r\n",
      "       CemntBd\tCement Board\r\n",
      "       HdBoard\tHard Board\r\n",
      "       ImStucc\tImitation Stucco\r\n",
      "       MetalSd\tMetal Siding\r\n",
      "       Other\tOther\r\n",
      "       Plywood\tPlywood\r\n",
      "       PreCast\tPreCast\t\r\n",
      "       Stone\tStone\r\n",
      "       Stucco\tStucco\r\n",
      "       VinylSd\tVinyl Siding\r\n",
      "       Wd Sdng\tWood Siding\r\n",
      "       WdShing\tWood Shingles\r\n",
      "\t\r\n",
      "Exterior2nd: Exterior covering on house (if more than one material)\r\n",
      "\r\n",
      "       AsbShng\tAsbestos Shingles\r\n",
      "       AsphShn\tAsphalt Shingles\r\n",
      "       BrkComm\tBrick Common\r\n",
      "       BrkFace\tBrick Face\r\n",
      "       CBlock\tCinder Block\r\n",
      "       CemntBd\tCement Board\r\n",
      "       HdBoard\tHard Board\r\n",
      "       ImStucc\tImitation Stucco\r\n",
      "       MetalSd\tMetal Siding\r\n",
      "       Other\tOther\r\n",
      "       Plywood\tPlywood\r\n",
      "       PreCast\tPreCast\r\n",
      "       Stone\tStone\r\n",
      "       Stucco\tStucco\r\n",
      "       VinylSd\tVinyl Siding\r\n",
      "       Wd Sdng\tWood Siding\r\n",
      "       WdShing\tWood Shingles\r\n",
      "\t\r\n",
      "MasVnrType: Masonry veneer type\r\n",
      "\r\n",
      "       BrkCmn\tBrick Common\r\n",
      "       BrkFace\tBrick Face\r\n",
      "       CBlock\tCinder Block\r\n",
      "       None\tNone\r\n",
      "       Stone\tStone\r\n",
      "\t\r\n",
      "MasVnrArea: Masonry veneer area in square feet\r\n",
      "\r\n",
      "ExterQual: Evaluates the quality of the material on the exterior \r\n",
      "\t\t\r\n",
      "       Ex\tExcellent\r\n",
      "       Gd\tGood\r\n",
      "       TA\tAverage/Typical\r\n",
      "       Fa\tFair\r\n",
      "       Po\tPoor\r\n",
      "\t\t\r\n",
      "ExterCond: Evaluates the present condition of the material on the exterior\r\n",
      "\t\t\r\n",
      "       Ex\tExcellent\r\n",
      "       Gd\tGood\r\n",
      "       TA\tAverage/Typical\r\n",
      "       Fa\tFair\r\n",
      "       Po\tPoor\r\n",
      "\t\t\r\n",
      "Foundation: Type of foundation\r\n",
      "\t\t\r\n",
      "       BrkTil\tBrick & Tile\r\n",
      "       CBlock\tCinder Block\r\n",
      "       PConc\tPoured Contrete\t\r\n",
      "       Slab\tSlab\r\n",
      "       Stone\tStone\r\n",
      "       Wood\tWood\r\n",
      "\t\t\r\n",
      "BsmtQual: Evaluates the height of the basement\r\n",
      "\r\n",
      "       Ex\tExcellent (100+ inches)\t\r\n",
      "       Gd\tGood (90-99 inches)\r\n",
      "       TA\tTypical (80-89 inches)\r\n",
      "       Fa\tFair (70-79 inches)\r\n",
      "       Po\tPoor (<70 inches\r\n",
      "       NA\tNo Basement\r\n",
      "\t\t\r\n",
      "BsmtCond: Evaluates the general condition of the basement\r\n",
      "\r\n",
      "       Ex\tExcellent\r\n",
      "       Gd\tGood\r\n",
      "       TA\tTypical - slight dampness allowed\r\n",
      "       Fa\tFair - dampness or some cracking or settling\r\n",
      "       Po\tPoor - Severe cracking, settling, or wetness\r\n",
      "       NA\tNo Basement\r\n",
      "\t\r\n",
      "BsmtExposure: Refers to walkout or garden level walls\r\n",
      "\r\n",
      "       Gd\tGood Exposure\r\n",
      "       Av\tAverage Exposure (split levels or foyers typically score average or above)\t\r\n",
      "       Mn\tMimimum Exposure\r\n",
      "       No\tNo Exposure\r\n",
      "       NA\tNo Basement\r\n",
      "\t\r\n",
      "BsmtFinType1: Rating of basement finished area\r\n",
      "\r\n",
      "       GLQ\tGood Living Quarters\r\n",
      "       ALQ\tAverage Living Quarters\r\n",
      "       BLQ\tBelow Average Living Quarters\t\r\n",
      "       Rec\tAverage Rec Room\r\n",
      "       LwQ\tLow Quality\r\n",
      "       Unf\tUnfinshed\r\n",
      "       NA\tNo Basement\r\n",
      "\t\t\r\n",
      "BsmtFinSF1: Type 1 finished square feet\r\n",
      "\r\n",
      "BsmtFinType2: Rating of basement finished area (if multiple types)\r\n",
      "\r\n",
      "       GLQ\tGood Living Quarters\r\n",
      "       ALQ\tAverage Living Quarters\r\n",
      "       BLQ\tBelow Average Living Quarters\t\r\n",
      "       Rec\tAverage Rec Room\r\n",
      "       LwQ\tLow Quality\r\n",
      "       Unf\tUnfinshed\r\n",
      "       NA\tNo Basement\r\n",
      "\r\n",
      "BsmtFinSF2: Type 2 finished square feet\r\n",
      "\r\n",
      "BsmtUnfSF: Unfinished square feet of basement area\r\n",
      "\r\n",
      "TotalBsmtSF: Total square feet of basement area\r\n",
      "\r\n",
      "Heating: Type of heating\r\n",
      "\t\t\r\n",
      "       Floor\tFloor Furnace\r\n",
      "       GasA\tGas forced warm air furnace\r\n",
      "       GasW\tGas hot water or steam heat\r\n",
      "       Grav\tGravity furnace\t\r\n",
      "       OthW\tHot water or steam heat other than gas\r\n",
      "       Wall\tWall furnace\r\n",
      "\t\t\r\n",
      "HeatingQC: Heating quality and condition\r\n",
      "\r\n",
      "       Ex\tExcellent\r\n",
      "       Gd\tGood\r\n",
      "       TA\tAverage/Typical\r\n",
      "       Fa\tFair\r\n",
      "       Po\tPoor\r\n",
      "\t\t\r\n",
      "CentralAir: Central air conditioning\r\n",
      "\r\n",
      "       N\tNo\r\n",
      "       Y\tYes\r\n",
      "\t\t\r\n",
      "Electrical: Electrical system\r\n",
      "\r\n",
      "       SBrkr\tStandard Circuit Breakers & Romex\r\n",
      "       FuseA\tFuse Box over 60 AMP and all Romex wiring (Average)\t\r\n",
      "       FuseF\t60 AMP Fuse Box and mostly Romex wiring (Fair)\r\n",
      "       FuseP\t60 AMP Fuse Box and mostly knob & tube wiring (poor)\r\n",
      "       Mix\tMixed\r\n",
      "\t\t\r\n",
      "1stFlrSF: First Floor square feet\r\n",
      " \r\n",
      "2ndFlrSF: Second floor square feet\r\n",
      "\r\n",
      "LowQualFinSF: Low quality finished square feet (all floors)\r\n",
      "\r\n",
      "GrLivArea: Above grade (ground) living area square feet\r\n",
      "\r\n",
      "BsmtFullBath: Basement full bathrooms\r\n",
      "\r\n",
      "BsmtHalfBath: Basement half bathrooms\r\n",
      "\r\n",
      "FullBath: Full bathrooms above grade\r\n",
      "\r\n",
      "HalfBath: Half baths above grade\r\n",
      "\r\n",
      "Bedroom: Bedrooms above grade (does NOT include basement bedrooms)\r\n",
      "\r\n",
      "Kitchen: Kitchens above grade\r\n",
      "\r\n",
      "KitchenQual: Kitchen quality\r\n",
      "\r\n",
      "       Ex\tExcellent\r\n",
      "       Gd\tGood\r\n",
      "       TA\tTypical/Average\r\n",
      "       Fa\tFair\r\n",
      "       Po\tPoor\r\n",
      "       \t\r\n",
      "TotRmsAbvGrd: Total rooms above grade (does not include bathrooms)\r\n",
      "\r\n",
      "Functional: Home functionality (Assume typical unless deductions are warranted)\r\n",
      "\r\n",
      "       Typ\tTypical Functionality\r\n",
      "       Min1\tMinor Deductions 1\r\n",
      "       Min2\tMinor Deductions 2\r\n",
      "       Mod\tModerate Deductions\r\n",
      "       Maj1\tMajor Deductions 1\r\n",
      "       Maj2\tMajor Deductions 2\r\n",
      "       Sev\tSeverely Damaged\r\n",
      "       Sal\tSalvage only\r\n",
      "\t\t\r\n",
      "Fireplaces: Number of fireplaces\r\n",
      "\r\n",
      "FireplaceQu: Fireplace quality\r\n",
      "\r\n",
      "       Ex\tExcellent - Exceptional Masonry Fireplace\r\n",
      "       Gd\tGood - Masonry Fireplace in main level\r\n",
      "       TA\tAverage - Prefabricated Fireplace in main living area or Masonry Fireplace in basement\r\n",
      "       Fa\tFair - Prefabricated Fireplace in basement\r\n",
      "       Po\tPoor - Ben Franklin Stove\r\n",
      "       NA\tNo Fireplace\r\n",
      "\t\t\r\n",
      "GarageType: Garage location\r\n",
      "\t\t\r\n",
      "       2Types\tMore than one type of garage\r\n",
      "       Attchd\tAttached to home\r\n",
      "       Basment\tBasement Garage\r\n",
      "       BuiltIn\tBuilt-In (Garage part of house - typically has room above garage)\r\n",
      "       CarPort\tCar Port\r\n",
      "       Detchd\tDetached from home\r\n",
      "       NA\tNo Garage\r\n",
      "\t\t\r\n",
      "GarageYrBlt: Year garage was built\r\n",
      "\t\t\r\n",
      "GarageFinish: Interior finish of the garage\r\n",
      "\r\n",
      "       Fin\tFinished\r\n",
      "       RFn\tRough Finished\t\r\n",
      "       Unf\tUnfinished\r\n",
      "       NA\tNo Garage\r\n",
      "\t\t\r\n",
      "GarageCars: Size of garage in car capacity\r\n",
      "\r\n",
      "GarageArea: Size of garage in square feet\r\n",
      "\r\n",
      "GarageQual: Garage quality\r\n",
      "\r\n",
      "       Ex\tExcellent\r\n",
      "       Gd\tGood\r\n",
      "       TA\tTypical/Average\r\n",
      "       Fa\tFair\r\n",
      "       Po\tPoor\r\n",
      "       NA\tNo Garage\r\n",
      "\t\t\r\n",
      "GarageCond: Garage condition\r\n",
      "\r\n",
      "       Ex\tExcellent\r\n",
      "       Gd\tGood\r\n",
      "       TA\tTypical/Average\r\n",
      "       Fa\tFair\r\n",
      "       Po\tPoor\r\n",
      "       NA\tNo Garage\r\n",
      "\t\t\r\n",
      "PavedDrive: Paved driveway\r\n",
      "\r\n",
      "       Y\tPaved \r\n",
      "       P\tPartial Pavement\r\n",
      "       N\tDirt/Gravel\r\n",
      "\t\t\r\n",
      "WoodDeckSF: Wood deck area in square feet\r\n",
      "\r\n",
      "OpenPorchSF: Open porch area in square feet\r\n",
      "\r\n",
      "EnclosedPorch: Enclosed porch area in square feet\r\n",
      "\r\n",
      "3SsnPorch: Three season porch area in square feet\r\n",
      "\r\n",
      "ScreenPorch: Screen porch area in square feet\r\n",
      "\r\n",
      "PoolArea: Pool area in square feet\r\n",
      "\r\n",
      "PoolQC: Pool quality\r\n",
      "\t\t\r\n",
      "       Ex\tExcellent\r\n",
      "       Gd\tGood\r\n",
      "       TA\tAverage/Typical\r\n",
      "       Fa\tFair\r\n",
      "       NA\tNo Pool\r\n",
      "\t\t\r\n",
      "Fence: Fence quality\r\n",
      "\t\t\r\n",
      "       GdPrv\tGood Privacy\r\n",
      "       MnPrv\tMinimum Privacy\r\n",
      "       GdWo\tGood Wood\r\n",
      "       MnWw\tMinimum Wood/Wire\r\n",
      "       NA\tNo Fence\r\n",
      "\t\r\n",
      "MiscFeature: Miscellaneous feature not covered in other categories\r\n",
      "\t\t\r\n",
      "       Elev\tElevator\r\n",
      "       Gar2\t2nd Garage (if not described in garage section)\r\n",
      "       Othr\tOther\r\n",
      "       Shed\tShed (over 100 SF)\r\n",
      "       TenC\tTennis Court\r\n",
      "       NA\tNone\r\n",
      "\t\t\r\n",
      "MiscVal: $Value of miscellaneous feature\r\n",
      "\r\n",
      "MoSold: Month Sold (MM)\r\n",
      "\r\n",
      "YrSold: Year Sold (YYYY)\r\n",
      "\r\n",
      "SaleType: Type of sale\r\n",
      "\t\t\r\n",
      "       WD \tWarranty Deed - Conventional\r\n",
      "       CWD\tWarranty Deed - Cash\r\n",
      "       VWD\tWarranty Deed - VA Loan\r\n",
      "       New\tHome just constructed and sold\r\n",
      "       COD\tCourt Officer Deed/Estate\r\n",
      "       Con\tContract 15% Down payment regular terms\r\n",
      "       ConLw\tContract Low Down payment and low interest\r\n",
      "       ConLI\tContract Low Interest\r\n",
      "       ConLD\tContract Low Down\r\n",
      "       Oth\tOther\r\n",
      "\t\t\r\n",
      "SaleCondition: Condition of sale\r\n",
      "\r\n",
      "       Normal\tNormal Sale\r\n",
      "       Abnorml\tAbnormal Sale -  trade, foreclosure, short sale\r\n",
      "       AdjLand\tAdjoining Land Purchase\r\n",
      "       Alloca\tAllocation - two linked properties with separate deeds, typically condo with a garage unit\t\r\n",
      "       Family\tSale between family members\r\n",
      "       Partial\tHome was not completed when last assessed (associated with New Homes)\r\n"
     ]
    }
   ],
   "source": [
    "!cat data/data_description.txt"
   ]
  },
  {
   "cell_type": "markdown",
   "metadata": {},
   "source": [
    "### Análise descritiva"
   ]
  },
  {
   "cell_type": "code",
   "execution_count": 10,
   "metadata": {},
   "outputs": [],
   "source": [
    "variavel_analise = 'BsmtFullBath'"
   ]
  },
  {
   "cell_type": "code",
   "execution_count": 11,
   "metadata": {},
   "outputs": [
    {
     "data": {
      "text/html": [
       "<div>\n",
       "<style scoped>\n",
       "    .dataframe tbody tr th:only-of-type {\n",
       "        vertical-align: middle;\n",
       "    }\n",
       "\n",
       "    .dataframe tbody tr th {\n",
       "        vertical-align: top;\n",
       "    }\n",
       "\n",
       "    .dataframe thead th {\n",
       "        text-align: right;\n",
       "    }\n",
       "</style>\n",
       "<table border=\"1\" class=\"dataframe\">\n",
       "  <thead>\n",
       "    <tr style=\"text-align: right;\">\n",
       "      <th></th>\n",
       "      <th>BsmtFullBath</th>\n",
       "      <th>count</th>\n",
       "    </tr>\n",
       "  </thead>\n",
       "  <tbody>\n",
       "    <tr>\n",
       "      <th>0</th>\n",
       "      <td>0</td>\n",
       "      <td>849.0</td>\n",
       "    </tr>\n",
       "    <tr>\n",
       "      <th>1</th>\n",
       "      <td>1</td>\n",
       "      <td>584.0</td>\n",
       "    </tr>\n",
       "    <tr>\n",
       "      <th>2</th>\n",
       "      <td>2</td>\n",
       "      <td>23.0</td>\n",
       "    </tr>\n",
       "    <tr>\n",
       "      <th>3</th>\n",
       "      <td>3</td>\n",
       "      <td>1.0</td>\n",
       "    </tr>\n",
       "    <tr>\n",
       "      <th>4</th>\n",
       "      <td>missing</td>\n",
       "      <td>2.0</td>\n",
       "    </tr>\n",
       "  </tbody>\n",
       "</table>\n",
       "</div>"
      ],
      "text/plain": [
       "  BsmtFullBath  count\n",
       "0            0  849.0\n",
       "1            1  584.0\n",
       "2            2   23.0\n",
       "3            3    1.0\n",
       "4      missing    2.0"
      ]
     },
     "execution_count": 11,
     "metadata": {},
     "output_type": "execute_result"
    }
   ],
   "source": [
    "DescribeCount = test.\\\n",
    "    fillna('missing').\\\n",
    "    groupby([variavel_analise])['Id'].\\\n",
    "    describe()[['count']].\\\n",
    "    apply(lambda x: round(x, 1)).\\\n",
    "    reset_index()\n",
    "\n",
    "DescribeCount"
   ]
  },
  {
   "cell_type": "code",
   "execution_count": 12,
   "metadata": {},
   "outputs": [
    {
     "data": {
      "text/html": [
       "<div>\n",
       "<style scoped>\n",
       "    .dataframe tbody tr th:only-of-type {\n",
       "        vertical-align: middle;\n",
       "    }\n",
       "\n",
       "    .dataframe tbody tr th {\n",
       "        vertical-align: top;\n",
       "    }\n",
       "\n",
       "    .dataframe thead th {\n",
       "        text-align: right;\n",
       "    }\n",
       "</style>\n",
       "<table border=\"1\" class=\"dataframe\">\n",
       "  <thead>\n",
       "    <tr style=\"text-align: right;\">\n",
       "      <th></th>\n",
       "      <th>BsmtFullBath</th>\n",
       "      <th>mean</th>\n",
       "      <th>count</th>\n",
       "      <th>std</th>\n",
       "      <th>min</th>\n",
       "      <th>max</th>\n",
       "    </tr>\n",
       "  </thead>\n",
       "  <tbody>\n",
       "    <tr>\n",
       "      <th>0</th>\n",
       "      <td>0</td>\n",
       "      <td>165521.6</td>\n",
       "      <td>856.0</td>\n",
       "      <td>68137.8</td>\n",
       "      <td>34900.0</td>\n",
       "      <td>755000.0</td>\n",
       "    </tr>\n",
       "    <tr>\n",
       "      <th>1</th>\n",
       "      <td>1</td>\n",
       "      <td>202522.9</td>\n",
       "      <td>588.0</td>\n",
       "      <td>88895.9</td>\n",
       "      <td>35311.0</td>\n",
       "      <td>745000.0</td>\n",
       "    </tr>\n",
       "    <tr>\n",
       "      <th>2</th>\n",
       "      <td>2</td>\n",
       "      <td>213063.1</td>\n",
       "      <td>15.0</td>\n",
       "      <td>87308.2</td>\n",
       "      <td>108959.0</td>\n",
       "      <td>385000.0</td>\n",
       "    </tr>\n",
       "    <tr>\n",
       "      <th>3</th>\n",
       "      <td>3</td>\n",
       "      <td>179000.0</td>\n",
       "      <td>1.0</td>\n",
       "      <td>NaN</td>\n",
       "      <td>179000.0</td>\n",
       "      <td>179000.0</td>\n",
       "    </tr>\n",
       "  </tbody>\n",
       "</table>\n",
       "</div>"
      ],
      "text/plain": [
       "   BsmtFullBath      mean  count      std       min       max\n",
       "0             0  165521.6  856.0  68137.8   34900.0  755000.0\n",
       "1             1  202522.9  588.0  88895.9   35311.0  745000.0\n",
       "2             2  213063.1   15.0  87308.2  108959.0  385000.0\n",
       "3             3  179000.0    1.0      NaN  179000.0  179000.0"
      ]
     },
     "execution_count": 12,
     "metadata": {},
     "output_type": "execute_result"
    }
   ],
   "source": [
    "DescribeCount = train.\\\n",
    "    fillna('missing').\\\n",
    "    groupby([variavel_analise])['SalePrice'].\\\n",
    "    describe()[['mean', 'count', 'std', 'min', 'max']].\\\n",
    "    apply(lambda x: round(x, 1)).\\\n",
    "    reset_index()\n",
    "\n",
    "DescribeCount"
   ]
  },
  {
   "cell_type": "markdown",
   "metadata": {},
   "source": [
    "### Feature Engineering"
   ]
  },
  {
   "cell_type": "code",
   "execution_count": 13,
   "metadata": {},
   "outputs": [],
   "source": [
    "dataprep_list =\\\n",
    "{\n",
    "    \"factor_to_number\":{\"ExterCond\":{\n",
    "                            \"order\": [\"Ex\", \"Gd\", \"TA\", \"Fa\", \"Po\"],\n",
    "                            \"grade\": [5,4,3,2,1]},\n",
    "                        \"ExterQual\":{                            \n",
    "                            \"order\": [\"Ex\", \"Gd\", \"TA\", \"Fa\", \"Po\"],\n",
    "                            \"grade\": [5,4,3,2,1]},\n",
    "                        \"LotShape\":{\n",
    "                            \"order\": ['Reg', 'IR1', 'IR2', 'IR3'],\n",
    "                            \"grade\": [4,3,2,1]},\n",
    "                        \"LandSlope\":{\n",
    "                            \"order\": ['Gtl', 'Mod', 'Sev'],\n",
    "                            \"grade\": [3,2,1]},\n",
    "                        \"LandContour\":{\n",
    "                            \"order\": ['Lvl', 'Bnk', 'HLS', 'Low'],\n",
    "                            \"grade\": [4,3,2,1]},\n",
    "                        \"HeatingQC\":{\n",
    "                             \"order\": [\"Ex\", \"Gd\", \"TA\", \"Fa\", \"Po\"],\n",
    "                            \"grade\": [5,4,3,2,1]},\n",
    "\n",
    "                       },   \n",
    "    \"scale_adjust\": {\"YrSold\": {\"value\": -2010}},\n",
    "    \"continuous_to_binary\": {\"PoolArea\": {\"threshold\": 0}},  \n",
    "    \"identity\": [\"LotArea\", \"OverallQual\", \"OverallCond\", \"Fireplaces\", \"KitchenAbvGr\"],\n",
    "    \"missing_class\": [\"Alley\", \"MasVnrType\"],\n",
    "    \"missing_number_to_inf\": [\"LotFrontage\", \"BsmtFullBath\"],\n",
    "    \"binary_dummies\": [\"Street\", \n",
    "                       \"Alley\", \n",
    "                       \"SaleCondition\", \n",
    "                       \"LandSlope\", \n",
    "                       \"CentralAir\", \n",
    "                       \"KitchenQual\",\n",
    "                       \"Foundation\",\n",
    "                       \"MSSubClass\",\n",
    "                       \"MSZoning\",\n",
    "                       \"LotConfig\",\n",
    "                       \"Neighborhood\",\n",
    "                       \"BldgType\",\n",
    "                       \"RoofStyle\",\n",
    "                       \"MasVnrType\"\n",
    "                      ]\n",
    "}"
   ]
  },
  {
   "cell_type": "code",
   "execution_count": 14,
   "metadata": {},
   "outputs": [],
   "source": [
    "def feature_eng(data, dataprep_list):\n",
    "    \n",
    "    X_columns = []\n",
    "    \n",
    "    # Missing to classes\n",
    "    data[dataprep_list[\"missing_class\"]] = data[dataprep_list[\"missing_class\"]].fillna('missing')\n",
    "    \n",
    "    # Missing number to Inf\n",
    "    \n",
    "    data[dataprep_list[\"missing_number_to_inf\"]] = data[dataprep_list[\"missing_number_to_inf\"]].fillna('missing')\n",
    "    \n",
    "    for var in dataprep_list[\"missing_number_to_inf\"]:\n",
    "        \n",
    "        X_columns = X_columns +  [var + '_miss_num']\n",
    "    \n",
    "        data[[var + '_miss_num']] = data[[var]].replace(\"missing\", -100 )\n",
    "    \n",
    "    # Binary to class\n",
    "    binary_dummy = pd.get_dummies(data=data[dataprep_list[\"binary_dummies\"]], drop_first = True)\n",
    "    \n",
    "    data[list(binary_dummy.columns)] = binary_dummy\n",
    "    X_columns =  X_columns + list(binary_dummy.columns)\n",
    "    \n",
    "    # Factor to number\n",
    "    for var in dataprep_list[\"factor_to_number\"].keys():\n",
    "        \n",
    "        X_columns = X_columns +  [var + '_grade']\n",
    "    \n",
    "        data[[var + '_grade']] = data[[var]].\\\n",
    "            replace(dataprep_list[\"factor_to_number\"][var][\"order\"], \n",
    "                    dataprep_list[\"factor_to_number\"][var][\"grade\"])\n",
    "    \n",
    "    # continuous to binary\n",
    "    for var in dataprep_list[\"continuous_to_binary\"].keys():\n",
    "        \n",
    "        X_columns = X_columns +  [var + '_binary']\n",
    "    \n",
    "        data[[var + '_binary']] = (data[[var]] > dataprep_list[\"continuous_to_binary\"][var][\"threshold\"]).astype(int)\n",
    "    \n",
    "    # Alteração de escala\n",
    "    for var in dataprep_list[\"scale_adjust\"].keys():\n",
    "        \n",
    "        X_columns = X_columns +  [var + '_adj']\n",
    "    \n",
    "        data[[var + '_adj']] = data[[var]] + dataprep_list[\"scale_adjust\"][var][\"value\"]\n",
    "    \n",
    "    # Selected Variables\n",
    "    X_columns = X_columns + list(binary_dummy.columns) + dataprep_list[\"identity\"]\n",
    "\n",
    "    \n",
    "    data = data[X_columns]\n",
    "\n",
    "    return data"
   ]
  },
  {
   "cell_type": "code",
   "execution_count": 15,
   "metadata": {},
   "outputs": [],
   "source": [
    "def target_eng(data, target_column, inverse = False):\n",
    "    \n",
    "    if(inverse):\n",
    "        y = np.exp(data)\n",
    "    else:\n",
    "        y = np.log(np.ravel(data[[target_column]]))   \n",
    "    \n",
    "    return y"
   ]
  },
  {
   "cell_type": "markdown",
   "metadata": {},
   "source": [
    "### Train-Validation split"
   ]
  },
  {
   "cell_type": "code",
   "execution_count": 16,
   "metadata": {},
   "outputs": [],
   "source": [
    "X = feature_eng(train, dataprep_list)"
   ]
  },
  {
   "cell_type": "code",
   "execution_count": 17,
   "metadata": {},
   "outputs": [
    {
     "data": {
      "text/html": [
       "<div>\n",
       "<style scoped>\n",
       "    .dataframe tbody tr th:only-of-type {\n",
       "        vertical-align: middle;\n",
       "    }\n",
       "\n",
       "    .dataframe tbody tr th {\n",
       "        vertical-align: top;\n",
       "    }\n",
       "\n",
       "    .dataframe thead th {\n",
       "        text-align: right;\n",
       "    }\n",
       "</style>\n",
       "<table border=\"1\" class=\"dataframe\">\n",
       "  <thead>\n",
       "    <tr style=\"text-align: right;\">\n",
       "      <th></th>\n",
       "      <th>LotFrontage_miss_num</th>\n",
       "      <th>BsmtFullBath_miss_num</th>\n",
       "      <th>MSSubClass</th>\n",
       "      <th>Street_Pave</th>\n",
       "      <th>Alley_Pave</th>\n",
       "      <th>Alley_missing</th>\n",
       "      <th>SaleCondition_AdjLand</th>\n",
       "      <th>SaleCondition_Alloca</th>\n",
       "      <th>SaleCondition_Family</th>\n",
       "      <th>SaleCondition_Normal</th>\n",
       "      <th>...</th>\n",
       "      <th>RoofStyle_Shed</th>\n",
       "      <th>MasVnrType_BrkFace</th>\n",
       "      <th>MasVnrType_None</th>\n",
       "      <th>MasVnrType_Stone</th>\n",
       "      <th>MasVnrType_missing</th>\n",
       "      <th>LotArea</th>\n",
       "      <th>OverallQual</th>\n",
       "      <th>OverallCond</th>\n",
       "      <th>Fireplaces</th>\n",
       "      <th>KitchenAbvGr</th>\n",
       "    </tr>\n",
       "  </thead>\n",
       "  <tbody>\n",
       "    <tr>\n",
       "      <th>0</th>\n",
       "      <td>65.0</td>\n",
       "      <td>1</td>\n",
       "      <td>60</td>\n",
       "      <td>1</td>\n",
       "      <td>0</td>\n",
       "      <td>1</td>\n",
       "      <td>0</td>\n",
       "      <td>0</td>\n",
       "      <td>0</td>\n",
       "      <td>1</td>\n",
       "      <td>...</td>\n",
       "      <td>0</td>\n",
       "      <td>1</td>\n",
       "      <td>0</td>\n",
       "      <td>0</td>\n",
       "      <td>0</td>\n",
       "      <td>8450</td>\n",
       "      <td>7</td>\n",
       "      <td>5</td>\n",
       "      <td>0</td>\n",
       "      <td>1</td>\n",
       "    </tr>\n",
       "    <tr>\n",
       "      <th>1</th>\n",
       "      <td>80.0</td>\n",
       "      <td>0</td>\n",
       "      <td>20</td>\n",
       "      <td>1</td>\n",
       "      <td>0</td>\n",
       "      <td>1</td>\n",
       "      <td>0</td>\n",
       "      <td>0</td>\n",
       "      <td>0</td>\n",
       "      <td>1</td>\n",
       "      <td>...</td>\n",
       "      <td>0</td>\n",
       "      <td>0</td>\n",
       "      <td>1</td>\n",
       "      <td>0</td>\n",
       "      <td>0</td>\n",
       "      <td>9600</td>\n",
       "      <td>6</td>\n",
       "      <td>8</td>\n",
       "      <td>1</td>\n",
       "      <td>1</td>\n",
       "    </tr>\n",
       "    <tr>\n",
       "      <th>2</th>\n",
       "      <td>68.0</td>\n",
       "      <td>1</td>\n",
       "      <td>60</td>\n",
       "      <td>1</td>\n",
       "      <td>0</td>\n",
       "      <td>1</td>\n",
       "      <td>0</td>\n",
       "      <td>0</td>\n",
       "      <td>0</td>\n",
       "      <td>1</td>\n",
       "      <td>...</td>\n",
       "      <td>0</td>\n",
       "      <td>1</td>\n",
       "      <td>0</td>\n",
       "      <td>0</td>\n",
       "      <td>0</td>\n",
       "      <td>11250</td>\n",
       "      <td>7</td>\n",
       "      <td>5</td>\n",
       "      <td>1</td>\n",
       "      <td>1</td>\n",
       "    </tr>\n",
       "    <tr>\n",
       "      <th>3</th>\n",
       "      <td>60.0</td>\n",
       "      <td>1</td>\n",
       "      <td>70</td>\n",
       "      <td>1</td>\n",
       "      <td>0</td>\n",
       "      <td>1</td>\n",
       "      <td>0</td>\n",
       "      <td>0</td>\n",
       "      <td>0</td>\n",
       "      <td>0</td>\n",
       "      <td>...</td>\n",
       "      <td>0</td>\n",
       "      <td>0</td>\n",
       "      <td>1</td>\n",
       "      <td>0</td>\n",
       "      <td>0</td>\n",
       "      <td>9550</td>\n",
       "      <td>7</td>\n",
       "      <td>5</td>\n",
       "      <td>1</td>\n",
       "      <td>1</td>\n",
       "    </tr>\n",
       "    <tr>\n",
       "      <th>4</th>\n",
       "      <td>84.0</td>\n",
       "      <td>1</td>\n",
       "      <td>60</td>\n",
       "      <td>1</td>\n",
       "      <td>0</td>\n",
       "      <td>1</td>\n",
       "      <td>0</td>\n",
       "      <td>0</td>\n",
       "      <td>0</td>\n",
       "      <td>1</td>\n",
       "      <td>...</td>\n",
       "      <td>0</td>\n",
       "      <td>1</td>\n",
       "      <td>0</td>\n",
       "      <td>0</td>\n",
       "      <td>0</td>\n",
       "      <td>14260</td>\n",
       "      <td>8</td>\n",
       "      <td>5</td>\n",
       "      <td>1</td>\n",
       "      <td>1</td>\n",
       "    </tr>\n",
       "  </tbody>\n",
       "</table>\n",
       "<p>5 rows × 145 columns</p>\n",
       "</div>"
      ],
      "text/plain": [
       "   LotFrontage_miss_num  BsmtFullBath_miss_num  MSSubClass  Street_Pave  \\\n",
       "0                  65.0                      1          60            1   \n",
       "1                  80.0                      0          20            1   \n",
       "2                  68.0                      1          60            1   \n",
       "3                  60.0                      1          70            1   \n",
       "4                  84.0                      1          60            1   \n",
       "\n",
       "   Alley_Pave  Alley_missing  SaleCondition_AdjLand  SaleCondition_Alloca  \\\n",
       "0           0              1                      0                     0   \n",
       "1           0              1                      0                     0   \n",
       "2           0              1                      0                     0   \n",
       "3           0              1                      0                     0   \n",
       "4           0              1                      0                     0   \n",
       "\n",
       "   SaleCondition_Family  SaleCondition_Normal  ...  RoofStyle_Shed  \\\n",
       "0                     0                     1  ...               0   \n",
       "1                     0                     1  ...               0   \n",
       "2                     0                     1  ...               0   \n",
       "3                     0                     0  ...               0   \n",
       "4                     0                     1  ...               0   \n",
       "\n",
       "   MasVnrType_BrkFace  MasVnrType_None  MasVnrType_Stone  MasVnrType_missing  \\\n",
       "0                   1                0                 0                   0   \n",
       "1                   0                1                 0                   0   \n",
       "2                   1                0                 0                   0   \n",
       "3                   0                1                 0                   0   \n",
       "4                   1                0                 0                   0   \n",
       "\n",
       "   LotArea  OverallQual  OverallCond  Fireplaces  KitchenAbvGr  \n",
       "0     8450            7            5           0             1  \n",
       "1     9600            6            8           1             1  \n",
       "2    11250            7            5           1             1  \n",
       "3     9550            7            5           1             1  \n",
       "4    14260            8            5           1             1  \n",
       "\n",
       "[5 rows x 145 columns]"
      ]
     },
     "execution_count": 17,
     "metadata": {},
     "output_type": "execute_result"
    }
   ],
   "source": [
    "X.head()"
   ]
  },
  {
   "cell_type": "code",
   "execution_count": 18,
   "metadata": {},
   "outputs": [
    {
     "data": {
      "text/plain": [
       "Index(['LotFrontage_miss_num', 'BsmtFullBath_miss_num', 'MSSubClass',\n",
       "       'Street_Pave', 'Alley_Pave', 'Alley_missing', 'SaleCondition_AdjLand',\n",
       "       'SaleCondition_Alloca', 'SaleCondition_Family', 'SaleCondition_Normal',\n",
       "       ...\n",
       "       'RoofStyle_Shed', 'MasVnrType_BrkFace', 'MasVnrType_None',\n",
       "       'MasVnrType_Stone', 'MasVnrType_missing', 'LotArea', 'OverallQual',\n",
       "       'OverallCond', 'Fireplaces', 'KitchenAbvGr'],\n",
       "      dtype='object', length=145)"
      ]
     },
     "execution_count": 18,
     "metadata": {},
     "output_type": "execute_result"
    }
   ],
   "source": [
    "X.columns"
   ]
  },
  {
   "cell_type": "code",
   "execution_count": 19,
   "metadata": {},
   "outputs": [],
   "source": [
    "y = target_eng(train, target_column)"
   ]
  },
  {
   "cell_type": "code",
   "execution_count": 20,
   "metadata": {},
   "outputs": [],
   "source": [
    "X_train, X_valid, y_train, y_valid = train_test_split(X, y, test_size=0.2, random_state=1903)"
   ]
  },
  {
   "cell_type": "markdown",
   "metadata": {},
   "source": [
    "### Neptune Experiments"
   ]
  },
  {
   "cell_type": "code",
   "execution_count": 21,
   "metadata": {},
   "outputs": [
    {
     "data": {
      "text/plain": [
       "Project(adelmofilho/house-prices-advanced-regression-techniques)"
      ]
     },
     "execution_count": 21,
     "metadata": {},
     "output_type": "execute_result"
    }
   ],
   "source": [
    "neptune.init('adelmofilho/' + competition_name)"
   ]
  },
  {
   "cell_type": "markdown",
   "metadata": {},
   "source": [
    "### Grid Search"
   ]
  },
  {
   "cell_type": "code",
   "execution_count": 22,
   "metadata": {},
   "outputs": [],
   "source": [
    "with open(\"settings/train.json\", \"r\") as json_file:\n",
    "        parameters = json.load(json_file)"
   ]
  },
  {
   "cell_type": "code",
   "execution_count": 23,
   "metadata": {},
   "outputs": [],
   "source": [
    "model = KaggleTrain(X_train, y_train, parameters)"
   ]
  },
  {
   "cell_type": "code",
   "execution_count": 24,
   "metadata": {},
   "outputs": [
    {
     "name": "stdout",
     "output_type": "stream",
     "text": [
      "Fitting 5 folds for each of 6 candidates, totalling 30 fits\n"
     ]
    },
    {
     "name": "stderr",
     "output_type": "stream",
     "text": [
      "[Parallel(n_jobs=6)]: Using backend LokyBackend with 6 concurrent workers.\n",
      "[Parallel(n_jobs=6)]: Done  30 out of  30 | elapsed:   10.9s finished\n"
     ]
    },
    {
     "data": {
      "text/plain": [
       "GridSearchCV(estimator=Pipeline(steps=[('estimator', RandomForestRegressor())]),\n",
       "             n_jobs=6,\n",
       "             param_grid=[{'estimator': [RandomForestRegressor(random_state=1903)],\n",
       "                          'estimator__ccp_alpha': [0],\n",
       "                          'estimator__max_features': ['auto'],\n",
       "                          'estimator__min_samples_leaf': [1, 3],\n",
       "                          'estimator__min_samples_split': [20],\n",
       "                          'estimator__n_estimators': [200, 300]},\n",
       "                         {'estimator': [GradientBoostingRegressor(loss='huber',\n",
       "                                                                  n_estimators=200,\n",
       "                                                                  random_state=1903)],\n",
       "                          'estimator__learning_rate': [0.1],\n",
       "                          'estimator__n_estimators': [200, 300]}],\n",
       "             scoring='neg_mean_squared_error', verbose=2)"
      ]
     },
     "execution_count": 24,
     "metadata": {},
     "output_type": "execute_result"
    }
   ],
   "source": [
    "model.gridsearch()"
   ]
  },
  {
   "cell_type": "code",
   "execution_count": 25,
   "metadata": {},
   "outputs": [],
   "source": [
    "best_model = model.best()"
   ]
  },
  {
   "cell_type": "code",
   "execution_count": 26,
   "metadata": {},
   "outputs": [
    {
     "data": {
      "text/plain": [
       "(0.01223630110143269, 0.023213310307613148)"
      ]
     },
     "execution_count": 26,
     "metadata": {},
     "output_type": "execute_result"
    }
   ],
   "source": [
    "model.validate(X_valid, y_valid)"
   ]
  },
  {
   "cell_type": "code",
   "execution_count": 30,
   "metadata": {},
   "outputs": [
    {
     "data": {
      "text/html": [
       "<div>\n",
       "<style scoped>\n",
       "    .dataframe tbody tr th:only-of-type {\n",
       "        vertical-align: middle;\n",
       "    }\n",
       "\n",
       "    .dataframe tbody tr th {\n",
       "        vertical-align: top;\n",
       "    }\n",
       "\n",
       "    .dataframe thead th {\n",
       "        text-align: right;\n",
       "    }\n",
       "</style>\n",
       "<table border=\"1\" class=\"dataframe\">\n",
       "  <thead>\n",
       "    <tr style=\"text-align: right;\">\n",
       "      <th></th>\n",
       "      <th>real</th>\n",
       "      <th>pred</th>\n",
       "      <th>res</th>\n",
       "    </tr>\n",
       "  </thead>\n",
       "  <tbody>\n",
       "    <tr>\n",
       "      <th>0</th>\n",
       "      <td>11.711776</td>\n",
       "      <td>12.091972</td>\n",
       "      <td>0.380196</td>\n",
       "    </tr>\n",
       "    <tr>\n",
       "      <th>1</th>\n",
       "      <td>11.238489</td>\n",
       "      <td>11.446140</td>\n",
       "      <td>0.207651</td>\n",
       "    </tr>\n",
       "    <tr>\n",
       "      <th>2</th>\n",
       "      <td>11.951180</td>\n",
       "      <td>11.895944</td>\n",
       "      <td>-0.055237</td>\n",
       "    </tr>\n",
       "    <tr>\n",
       "      <th>3</th>\n",
       "      <td>11.736069</td>\n",
       "      <td>11.839097</td>\n",
       "      <td>0.103028</td>\n",
       "    </tr>\n",
       "    <tr>\n",
       "      <th>4</th>\n",
       "      <td>11.288531</td>\n",
       "      <td>11.625861</td>\n",
       "      <td>0.337330</td>\n",
       "    </tr>\n",
       "    <tr>\n",
       "      <th>...</th>\n",
       "      <td>...</td>\n",
       "      <td>...</td>\n",
       "      <td>...</td>\n",
       "    </tr>\n",
       "    <tr>\n",
       "      <th>287</th>\n",
       "      <td>11.708492</td>\n",
       "      <td>11.587799</td>\n",
       "      <td>-0.120693</td>\n",
       "    </tr>\n",
       "    <tr>\n",
       "      <th>288</th>\n",
       "      <td>11.898188</td>\n",
       "      <td>11.767487</td>\n",
       "      <td>-0.130701</td>\n",
       "    </tr>\n",
       "    <tr>\n",
       "      <th>289</th>\n",
       "      <td>11.648365</td>\n",
       "      <td>11.634549</td>\n",
       "      <td>-0.013816</td>\n",
       "    </tr>\n",
       "    <tr>\n",
       "      <th>290</th>\n",
       "      <td>12.027185</td>\n",
       "      <td>12.036195</td>\n",
       "      <td>0.009010</td>\n",
       "    </tr>\n",
       "    <tr>\n",
       "      <th>291</th>\n",
       "      <td>11.808814</td>\n",
       "      <td>11.871222</td>\n",
       "      <td>0.062409</td>\n",
       "    </tr>\n",
       "  </tbody>\n",
       "</table>\n",
       "<p>292 rows × 3 columns</p>\n",
       "</div>"
      ],
      "text/plain": [
       "          real       pred       res\n",
       "0    11.711776  12.091972  0.380196\n",
       "1    11.238489  11.446140  0.207651\n",
       "2    11.951180  11.895944 -0.055237\n",
       "3    11.736069  11.839097  0.103028\n",
       "4    11.288531  11.625861  0.337330\n",
       "..         ...        ...       ...\n",
       "287  11.708492  11.587799 -0.120693\n",
       "288  11.898188  11.767487 -0.130701\n",
       "289  11.648365  11.634549 -0.013816\n",
       "290  12.027185  12.036195  0.009010\n",
       "291  11.808814  11.871222  0.062409\n",
       "\n",
       "[292 rows x 3 columns]"
      ]
     },
     "execution_count": 30,
     "metadata": {},
     "output_type": "execute_result"
    }
   ],
   "source": [
    "model.residuals()"
   ]
  },
  {
   "cell_type": "code",
   "execution_count": 31,
   "metadata": {},
   "outputs": [
    {
     "data": {
      "image/png": "[encoded data removed]",
      "text/plain": [
       "<Figure size 432x288 with 1 Axes>"
      ]
     },
     "metadata": {},
     "output_type": "display_data"
    }
   ],
   "source": [
    "model.corrplot()"
   ]
  },
  {
   "cell_type": "code",
   "execution_count": 32,
   "metadata": {},
   "outputs": [
    {
     "ename": "AttributeError",
     "evalue": "'function' object has no attribute 'get'",
     "output_type": "error",
     "traceback": [
      "\u001b[0;31m---------------------------------------------------------------------------\u001b[0m",
      "\u001b[0;31mAttributeError\u001b[0m                            Traceback (most recent call last)",
      "\u001b[0;32m<ipython-input-32-9fd686b8bcb0>\u001b[0m in \u001b[0;36m<module>\u001b[0;34m\u001b[0m\n\u001b[0;32m----> 1\u001b[0;31m \u001b[0mmodel\u001b[0m\u001b[0;34m.\u001b[0m\u001b[0mhetplot\u001b[0m\u001b[0;34m(\u001b[0m\u001b[0;34m)\u001b[0m\u001b[0;34m\u001b[0m\u001b[0;34m\u001b[0m\u001b[0m\n\u001b[0m",
      "\u001b[0;32m~/projetos/kaggle/house-prices/src/train.py\u001b[0m in \u001b[0;36mhetplot\u001b[0;34m(self)\u001b[0m\n\u001b[1;32m     96\u001b[0m     \u001b[0;32mdef\u001b[0m \u001b[0mhetplot\u001b[0m\u001b[0;34m(\u001b[0m\u001b[0mself\u001b[0m\u001b[0;34m)\u001b[0m\u001b[0;34m:\u001b[0m\u001b[0;34m\u001b[0m\u001b[0;34m\u001b[0m\u001b[0m\n\u001b[1;32m     97\u001b[0m \u001b[0;34m\u001b[0m\u001b[0m\n\u001b[0;32m---> 98\u001b[0;31m        \u001b[0msns\u001b[0m\u001b[0;34m.\u001b[0m\u001b[0mscatterplot\u001b[0m\u001b[0;34m(\u001b[0m\u001b[0mx\u001b[0m\u001b[0;34m=\u001b[0m\u001b[0;34m\"pred\"\u001b[0m\u001b[0;34m,\u001b[0m \u001b[0my\u001b[0m\u001b[0;34m=\u001b[0m\u001b[0;34m\"res\"\u001b[0m\u001b[0;34m,\u001b[0m \u001b[0mdata\u001b[0m\u001b[0;34m=\u001b[0m\u001b[0mself\u001b[0m\u001b[0;34m.\u001b[0m\u001b[0mresiduals\u001b[0m\u001b[0;34m)\u001b[0m\u001b[0;34m.\u001b[0m\u001b[0mget_figure\u001b[0m\u001b[0;34m(\u001b[0m\u001b[0;34m)\u001b[0m\u001b[0;34m\u001b[0m\u001b[0;34m\u001b[0m\u001b[0m\n\u001b[0m",
      "\u001b[0;32m~/projetos/kaggle/house-prices/.env/lib/python3.6/site-packages/seaborn/relational.py\u001b[0m in \u001b[0;36mscatterplot\u001b[0;34m(x, y, hue, style, size, data, palette, hue_order, hue_norm, sizes, size_order, size_norm, markers, style_order, x_bins, y_bins, units, estimator, ci, n_boot, alpha, x_jitter, y_jitter, legend, ax, **kwargs)\u001b[0m\n\u001b[1;32m   1395\u001b[0m         \u001b[0mx_bins\u001b[0m\u001b[0;34m=\u001b[0m\u001b[0mx_bins\u001b[0m\u001b[0;34m,\u001b[0m \u001b[0my_bins\u001b[0m\u001b[0;34m=\u001b[0m\u001b[0my_bins\u001b[0m\u001b[0;34m,\u001b[0m\u001b[0;34m\u001b[0m\u001b[0;34m\u001b[0m\u001b[0m\n\u001b[1;32m   1396\u001b[0m         \u001b[0mestimator\u001b[0m\u001b[0;34m=\u001b[0m\u001b[0mestimator\u001b[0m\u001b[0;34m,\u001b[0m \u001b[0mci\u001b[0m\u001b[0;34m=\u001b[0m\u001b[0mci\u001b[0m\u001b[0;34m,\u001b[0m \u001b[0mn_boot\u001b[0m\u001b[0;34m=\u001b[0m\u001b[0mn_boot\u001b[0m\u001b[0;34m,\u001b[0m\u001b[0;34m\u001b[0m\u001b[0;34m\u001b[0m\u001b[0m\n\u001b[0;32m-> 1397\u001b[0;31m         \u001b[0malpha\u001b[0m\u001b[0;34m=\u001b[0m\u001b[0malpha\u001b[0m\u001b[0;34m,\u001b[0m \u001b[0mx_jitter\u001b[0m\u001b[0;34m=\u001b[0m\u001b[0mx_jitter\u001b[0m\u001b[0;34m,\u001b[0m \u001b[0my_jitter\u001b[0m\u001b[0;34m=\u001b[0m\u001b[0my_jitter\u001b[0m\u001b[0;34m,\u001b[0m \u001b[0mlegend\u001b[0m\u001b[0;34m=\u001b[0m\u001b[0mlegend\u001b[0m\u001b[0;34m,\u001b[0m\u001b[0;34m\u001b[0m\u001b[0;34m\u001b[0m\u001b[0m\n\u001b[0m\u001b[1;32m   1398\u001b[0m     )\n\u001b[1;32m   1399\u001b[0m \u001b[0;34m\u001b[0m\u001b[0m\n",
      "\u001b[0;32m~/projetos/kaggle/house-prices/.env/lib/python3.6/site-packages/seaborn/relational.py\u001b[0m in \u001b[0;36m__init__\u001b[0;34m(self, x, y, hue, size, style, data, palette, hue_order, hue_norm, sizes, size_order, size_norm, dashes, markers, style_order, x_bins, y_bins, units, estimator, ci, n_boot, alpha, x_jitter, y_jitter, legend)\u001b[0m\n\u001b[1;32m    884\u001b[0m \u001b[0;34m\u001b[0m\u001b[0m\n\u001b[1;32m    885\u001b[0m         plot_data = self.establish_variables(\n\u001b[0;32m--> 886\u001b[0;31m             \u001b[0mx\u001b[0m\u001b[0;34m,\u001b[0m \u001b[0my\u001b[0m\u001b[0;34m,\u001b[0m \u001b[0mhue\u001b[0m\u001b[0;34m,\u001b[0m \u001b[0msize\u001b[0m\u001b[0;34m,\u001b[0m \u001b[0mstyle\u001b[0m\u001b[0;34m,\u001b[0m \u001b[0munits\u001b[0m\u001b[0;34m,\u001b[0m \u001b[0mdata\u001b[0m\u001b[0;34m\u001b[0m\u001b[0;34m\u001b[0m\u001b[0m\n\u001b[0m\u001b[1;32m    887\u001b[0m         )\n\u001b[1;32m    888\u001b[0m \u001b[0;34m\u001b[0m\u001b[0m\n",
      "\u001b[0;32m~/projetos/kaggle/house-prices/.env/lib/python3.6/site-packages/seaborn/relational.py\u001b[0m in \u001b[0;36mestablish_variables\u001b[0;34m(self, x, y, hue, size, style, units, data)\u001b[0m\n\u001b[1;32m    124\u001b[0m             \u001b[0;31m# Use variables as from the dataframe if specified\u001b[0m\u001b[0;34m\u001b[0m\u001b[0;34m\u001b[0m\u001b[0;34m\u001b[0m\u001b[0m\n\u001b[1;32m    125\u001b[0m             \u001b[0;32mif\u001b[0m \u001b[0mdata\u001b[0m \u001b[0;32mis\u001b[0m \u001b[0;32mnot\u001b[0m \u001b[0;32mNone\u001b[0m\u001b[0;34m:\u001b[0m\u001b[0;34m\u001b[0m\u001b[0;34m\u001b[0m\u001b[0m\n\u001b[0;32m--> 126\u001b[0;31m                 \u001b[0mx\u001b[0m \u001b[0;34m=\u001b[0m \u001b[0mdata\u001b[0m\u001b[0;34m.\u001b[0m\u001b[0mget\u001b[0m\u001b[0;34m(\u001b[0m\u001b[0mx\u001b[0m\u001b[0;34m,\u001b[0m \u001b[0mx\u001b[0m\u001b[0;34m)\u001b[0m\u001b[0;34m\u001b[0m\u001b[0;34m\u001b[0m\u001b[0m\n\u001b[0m\u001b[1;32m    127\u001b[0m                 \u001b[0my\u001b[0m \u001b[0;34m=\u001b[0m \u001b[0mdata\u001b[0m\u001b[0;34m.\u001b[0m\u001b[0mget\u001b[0m\u001b[0;34m(\u001b[0m\u001b[0my\u001b[0m\u001b[0;34m,\u001b[0m \u001b[0my\u001b[0m\u001b[0;34m)\u001b[0m\u001b[0;34m\u001b[0m\u001b[0;34m\u001b[0m\u001b[0m\n\u001b[1;32m    128\u001b[0m                 \u001b[0mhue\u001b[0m \u001b[0;34m=\u001b[0m \u001b[0mdata\u001b[0m\u001b[0;34m.\u001b[0m\u001b[0mget\u001b[0m\u001b[0;34m(\u001b[0m\u001b[0mhue\u001b[0m\u001b[0;34m,\u001b[0m \u001b[0mhue\u001b[0m\u001b[0;34m)\u001b[0m\u001b[0;34m\u001b[0m\u001b[0;34m\u001b[0m\u001b[0m\n",
      "\u001b[0;31mAttributeError\u001b[0m: 'function' object has no attribute 'get'"
     ]
    }
   ],
   "source": [
    "model.hetplot()"
   ]
  },
  {
   "cell_type": "code",
   "execution_count": null,
   "metadata": {},
   "outputs": [],
   "source": [
    "pkl_name = \"{}.pkl\".format(datetime.now().strftime(\"%Y-%b-%d-%H-%M-%S\"))"
   ]
  },
  {
   "cell_type": "code",
   "execution_count": null,
   "metadata": {},
   "outputs": [],
   "source": [
    "pickle.dump(best_model, open(\"models/\" + pkl_name, 'wb'))"
   ]
  },
  {
   "cell_type": "code",
   "execution_count": null,
   "metadata": {},
   "outputs": [],
   "source": [
    "y_pred_train = best_model.predict(X_train)"
   ]
  },
  {
   "cell_type": "code",
   "execution_count": null,
   "metadata": {},
   "outputs": [],
   "source": [
    "mean_squared_error_train = mean_squared_error(y_train, y_pred_train)\n",
    "mean_squared_error_train"
   ]
  },
  {
   "cell_type": "markdown",
   "metadata": {},
   "source": [
    "### Avaliação de overfitting"
   ]
  },
  {
   "cell_type": "code",
   "execution_count": null,
   "metadata": {},
   "outputs": [],
   "source": [
    "y_pred_valid = best_model.predict(X_valid)"
   ]
  },
  {
   "cell_type": "code",
   "execution_count": null,
   "metadata": {},
   "outputs": [],
   "source": [
    "mean_squared_error_valid = mean_squared_error(y_valid, y_pred_valid)\n",
    "mean_squared_error_valid"
   ]
  },
  {
   "cell_type": "markdown",
   "metadata": {},
   "source": [
    "### Register Experiment"
   ]
  },
  {
   "cell_type": "code",
   "execution_count": null,
   "metadata": {},
   "outputs": [],
   "source": [
    "PARAMS = {\"dataprep\": dataprep_list,\n",
    "          \"grid_search\": parameters}"
   ]
  },
  {
   "cell_type": "code",
   "execution_count": null,
   "metadata": {},
   "outputs": [],
   "source": [
    "experiment_name = \"new features\""
   ]
  },
  {
   "cell_type": "code",
   "execution_count": null,
   "metadata": {},
   "outputs": [],
   "source": [
    "neptune.create_experiment(name=experiment_name, params=PARAMS)"
   ]
  },
  {
   "cell_type": "code",
   "execution_count": null,
   "metadata": {},
   "outputs": [],
   "source": [
    "neptune.log_artifact(\"models/\" + pkl_name)"
   ]
  },
  {
   "cell_type": "code",
   "execution_count": null,
   "metadata": {},
   "outputs": [],
   "source": [
    "neptune.log_metric('mean_squared_error_train',mean_squared_error_train)\n",
    "neptune.log_metric('mean_squared_error_valid', mean_squared_error_valid)"
   ]
  },
  {
   "cell_type": "markdown",
   "metadata": {},
   "source": [
    "### Avaliação dos resíduos"
   ]
  },
  {
   "cell_type": "code",
   "execution_count": null,
   "metadata": {},
   "outputs": [],
   "source": [
    "residues = pd.DataFrame()\n",
    "residues[\"real\"] = y_valid\n",
    "residues[\"pred\"] = y_pred_valid"
   ]
  },
  {
   "cell_type": "code",
   "execution_count": null,
   "metadata": {},
   "outputs": [],
   "source": [
    "residuePlot = sns.scatterplot(x=\"real\", y=\"pred\", data=residues)\n",
    "fig = residuePlot.get_figure()"
   ]
  },
  {
   "cell_type": "code",
   "execution_count": null,
   "metadata": {},
   "outputs": [],
   "source": [
    "neptune.log_image('residues', fig)"
   ]
  },
  {
   "cell_type": "markdown",
   "metadata": {},
   "source": [
    "### Predição do conjunto de teste"
   ]
  },
  {
   "cell_type": "code",
   "execution_count": null,
   "metadata": {},
   "outputs": [],
   "source": [
    "X_test = feature_eng(test, dataprep_list)"
   ]
  },
  {
   "cell_type": "code",
   "execution_count": null,
   "metadata": {},
   "outputs": [],
   "source": [
    "X_test.columns"
   ]
  },
  {
   "cell_type": "code",
   "execution_count": null,
   "metadata": {},
   "outputs": [],
   "source": [
    "y_pred_test = best_model.predict(X_test)"
   ]
  },
  {
   "cell_type": "code",
   "execution_count": null,
   "metadata": {},
   "outputs": [],
   "source": [
    "y_pred_test_transform = target_eng(y_pred_test, target_column = target_column, inverse = True)"
   ]
  },
  {
   "cell_type": "code",
   "execution_count": null,
   "metadata": {},
   "outputs": [],
   "source": [
    "predictions = KaggleSubmission()"
   ]
  },
  {
   "cell_type": "code",
   "execution_count": null,
   "metadata": {},
   "outputs": [],
   "source": [
    "predictions[\"Id\"] = test.Id\n",
    "predictions[\"SalePrice\"] = y_pred_test_transform"
   ]
  },
  {
   "cell_type": "code",
   "execution_count": null,
   "metadata": {},
   "outputs": [],
   "source": [
    "predictions.save('house-prices-advanced-regression-techniques', \"Id\", \"SalePrice\")"
   ]
  },
  {
   "cell_type": "markdown",
   "metadata": {},
   "source": [
    "predictions.submit(message = \"featureeng melhorada\")"
   ]
  },
  {
   "cell_type": "markdown",
   "metadata": {},
   "source": [
    "neptune.log_metric('mean_squared_error_test', 0.15738)"
   ]
  }
 ],
 "metadata": {
  "kernelspec": {
   "display_name": "Python 3",
   "language": "python",
   "name": "python3"
  },
  "language_info": {
   "codemirror_mode": {
    "name": "ipython",
    "version": 3
   },
   "file_extension": ".py",
   "mimetype": "text/x-python",
   "name": "python",
   "nbconvert_exporter": "python",
   "pygments_lexer": "ipython3",
   "version": "3.6.9"
  }
 },
 "nbformat": 4,
 "nbformat_minor": 4
}
